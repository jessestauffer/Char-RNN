{
 "cells": [
  {
   "cell_type": "code",
   "execution_count": 1,
   "metadata": {},
   "outputs": [
    {
     "name": "stderr",
     "output_type": "stream",
     "text": [
      "Using TensorFlow backend.\n"
     ]
    }
   ],
   "source": [
    "import pandas as pd\n",
    "import numpy as np\n",
    "from keras.models import Sequential\n",
    "from keras import layers\n",
    "from keras.optimizers import Adam\n",
    "import sys"
   ]
  },
  {
   "cell_type": "code",
   "execution_count": 2,
   "metadata": {},
   "outputs": [],
   "source": [
    "MAXLEN = 2 # sequence length to consider\n",
    "STEP = 1\n",
    "LEARNING_RATE = .001\n",
    "NUM_EPOCHS = 10\n",
    "BATCH_SIZE = 5096"
   ]
  },
  {
   "cell_type": "code",
   "execution_count": 3,
   "metadata": {},
   "outputs": [],
   "source": [
    "def load_data(filename):\n",
    "    df = pd.read_csv(filename)\n",
    "    df = df.filter(['Name'])\n",
    "    df = np.array(df)\n",
    "    return df"
   ]
  },
  {
   "cell_type": "code",
   "execution_count": 4,
   "metadata": {},
   "outputs": [],
   "source": [
    "def preprocess_data(df):\n",
    "    \n",
    "    inputs = []\n",
    "    targets = []\n",
    "    \n",
    "    all_chars = \"\"\n",
    "    \n",
    "    for item in df:\n",
    "        item = str(np.squeeze(item))\n",
    "        # track all possible characters to generate\n",
    "        all_chars += item\n",
    "        \n",
    "        # create tokens from items\n",
    "        for i in range(0, len(item) - MAXLEN, STEP):\n",
    "            inputs.append(item[i : i + MAXLEN])\n",
    "            targets.append(item[i + MAXLEN])\n",
    "    \n",
    "    # get list of unique characters to generate from\n",
    "    chars = sorted(list(set(all_chars)))\n",
    "    print(\"Unique chars: \" + str(len(chars)))\n",
    "    char_indices = dict((char, chars.index(char)) for char in chars)\n",
    "    \n",
    "    # create empty numpy arrays for X and y\n",
    "    X = np.zeros((len(inputs), MAXLEN, len(chars)), dtype=np.bool)\n",
    "    y = np.zeros((len(inputs), len(chars)), dtype=np.bool)\n",
    "    \n",
    "    # one-hot encode selections\n",
    "    for i, indiv_input in enumerate(inputs):\n",
    "        for t, indiv_char in enumerate(indiv_input):\n",
    "            X[i, t, char_indices[indiv_char]] = 1\n",
    "        y[i, char_indices[targets[i]]] = 1\n",
    "    \n",
    "    return X, y, chars, char_indices, len(chars)"
   ]
  },
  {
   "cell_type": "code",
   "execution_count": 5,
   "metadata": {},
   "outputs": [],
   "source": [
    "def build_model(charLength):\n",
    "    model = Sequential()\n",
    "    model.add(layers.LSTM(128, input_shape=(MAXLEN, charLength)))\n",
    "    model.add(layers.Dense(charLength, activation='softmax')) # multi-label classification problem\n",
    "    \n",
    "    model.compile(loss='categorical_crossentropy', optimizer=Adam(lr=LEARNING_RATE))\n",
    "    \n",
    "    return model"
   ]
  },
  {
   "cell_type": "code",
   "execution_count": 6,
   "metadata": {},
   "outputs": [],
   "source": [
    "def sample(preds, temperature=1.0):\n",
    "    preds = np.asarray(preds).astype('float64')\n",
    "    preds = np.log(preds) / temperature\n",
    "    exp_preds = np.exp(preds)\n",
    "    preds = exp_preds / np.sum(exp_preds)\n",
    "    probas = np.random.multinomial(1, preds, 1)\n",
    "    return np.argmax(probas)"
   ]
  },
  {
   "cell_type": "code",
   "execution_count": 14,
   "metadata": {},
   "outputs": [],
   "source": [
    "def generate_with_seed(seed, length, chars, char_indices, char_length):\n",
    "    seed = seed[:MAXLEN]\n",
    "    generated_text = seed[:MAXLEN]\n",
    "    name = seed\n",
    "    for i in range(length - len(seed)):\n",
    "        sampled = np.zeros((1, MAXLEN, char_length))\n",
    "        for t, char in enumerate(generated_text):\n",
    "            sampled[0, t, char_indices[char]] = 1.\n",
    "            \n",
    "        preds = model.predict(sampled, verbose=0)[0]\n",
    "        next_index = sample(preds, 0.5)\n",
    "        next_char = chars[next_index]\n",
    "\n",
    "        generated_text += next_char\n",
    "        generated_text = generated_text[1:]\n",
    "\n",
    "        name += next_char\n",
    "        \n",
    "    return name"
   ]
  },
  {
   "cell_type": "code",
   "execution_count": 8,
   "metadata": {},
   "outputs": [
    {
     "name": "stdout",
     "output_type": "stream",
     "text": [
      "Unique chars: 52\n",
      "X.shape == (7619532, 2, 52)\n",
      "y.shape == (7619532, 52)\n"
     ]
    }
   ],
   "source": [
    "data = load_data(\"names.csv\")\n",
    "X, y, chars, char_indices, char_length = preprocess_data(data)\n",
    "print(\"X.shape == \" + str(X.shape))\n",
    "print(\"y.shape == \" + str(y.shape))"
   ]
  },
  {
   "cell_type": "code",
   "execution_count": 9,
   "metadata": {},
   "outputs": [
    {
     "name": "stdout",
     "output_type": "stream",
     "text": [
      "WARNING:tensorflow:From /usr/local/lib/python3.6/site-packages/tensorflow/python/framework/op_def_library.py:263: colocate_with (from tensorflow.python.framework.ops) is deprecated and will be removed in a future version.\n",
      "Instructions for updating:\n",
      "Colocations handled automatically by placer.\n",
      "WARNING:tensorflow:From /usr/local/lib/python3.6/site-packages/tensorflow/python/ops/math_ops.py:3066: to_int32 (from tensorflow.python.ops.math_ops) is deprecated and will be removed in a future version.\n",
      "Instructions for updating:\n",
      "Use tf.cast instead.\n",
      "Epoch 1/10\n",
      "7619532/7619532 [==============================] - 15s 2us/step - loss: 2.2810\n",
      "Epoch 2/10\n",
      "7619532/7619532 [==============================] - 13s 2us/step - loss: 2.0746\n",
      "Epoch 3/10\n",
      "7619532/7619532 [==============================] - 14s 2us/step - loss: 2.0412\n",
      "Epoch 4/10\n",
      "7619532/7619532 [==============================] - 13s 2us/step - loss: 2.0279\n",
      "Epoch 5/10\n",
      "7619532/7619532 [==============================] - 13s 2us/step - loss: 2.0210\n",
      "Epoch 6/10\n",
      "7619532/7619532 [==============================] - 13s 2us/step - loss: 2.0169\n",
      "Epoch 7/10\n",
      "7619532/7619532 [==============================] - 13s 2us/step - loss: 2.0140\n",
      "Epoch 8/10\n",
      "7619532/7619532 [==============================] - 13s 2us/step - loss: 2.0120\n",
      "Epoch 9/10\n",
      "7619532/7619532 [==============================] - 14s 2us/step - loss: 2.0104\n",
      "Epoch 10/10\n",
      "7619532/7619532 [==============================] - 13s 2us/step - loss: 2.0093\n"
     ]
    },
    {
     "data": {
      "text/plain": [
       "<keras.callbacks.History at 0x7fe9fe3b8f28>"
      ]
     },
     "execution_count": 9,
     "metadata": {},
     "output_type": "execute_result"
    }
   ],
   "source": [
    "# train a RNN to generate new names\n",
    "model = build_model(char_length)\n",
    "model.fit(X, y, epochs=NUM_EPOCHS, batch_size=BATCH_SIZE)"
   ]
  },
  {
   "cell_type": "code",
   "execution_count": 18,
   "metadata": {},
   "outputs": [
    {
     "data": {
      "text/plain": [
       "'Abbin'"
      ]
     },
     "execution_count": 18,
     "metadata": {},
     "output_type": "execute_result"
    }
   ],
   "source": [
    "generate_with_seed(\"Ab\", 5, chars, char_indices, char_length)"
   ]
  },
  {
   "cell_type": "code",
   "execution_count": 16,
   "metadata": {},
   "outputs": [
    {
     "data": {
      "text/plain": [
       "'Janiah'"
      ]
     },
     "execution_count": 16,
     "metadata": {},
     "output_type": "execute_result"
    }
   ],
   "source": [
    "generate_with_seed(\"Ja\", 6, chars, char_indices, char_length)"
   ]
  },
  {
   "cell_type": "code",
   "execution_count": 17,
   "metadata": {},
   "outputs": [
    {
     "data": {
      "text/plain": [
       "'Sal'"
      ]
     },
     "execution_count": 17,
     "metadata": {},
     "output_type": "execute_result"
    }
   ],
   "source": [
    "generate_with_seed(\"S\", 3, chars, char_indices, char_length)"
   ]
  },
  {
   "cell_type": "code",
   "execution_count": null,
   "metadata": {},
   "outputs": [],
   "source": []
  }
 ],
 "metadata": {
  "kernelspec": {
   "display_name": "Python 3.6",
   "language": "python",
   "name": "python3.6-test"
  },
  "language_info": {
   "codemirror_mode": {
    "name": "ipython",
    "version": 3
   },
   "file_extension": ".py",
   "mimetype": "text/x-python",
   "name": "python",
   "nbconvert_exporter": "python",
   "pygments_lexer": "ipython3",
   "version": "3.6.3"
  }
 },
 "nbformat": 4,
 "nbformat_minor": 2
}
